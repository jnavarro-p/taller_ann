{
  "nbformat": 4,
  "nbformat_minor": 0,
  "metadata": {
    "colab": {
      "name": "Taller ANN.ipynb",
      "provenance": [],
      "collapsed_sections": []
    },
    "kernelspec": {
      "name": "python3",
      "display_name": "Python 3"
    }
  },
  "cells": [
    {
      "cell_type": "markdown",
      "metadata": {
        "id": "yZlNm6MsXjqu"
      },
      "source": [
        "##Obtención y organización de datos"
      ]
    },
    {
      "cell_type": "code",
      "metadata": {
        "id": "BuV9Sp8OnHy0"
      },
      "source": [
        "#Importar datos de la librería sklearn\n",
        "from sklearn import datasets\n",
        "#Almacenar datos de cáncer de mama\n",
        "data = datasets.load_breast_cancer()\n",
        "#Imprimir descripción\n",
        "print(data.DESCR)"
      ],
      "execution_count": null,
      "outputs": []
    },
    {
      "cell_type": "code",
      "metadata": {
        "id": "hhvBYL7AoG5b"
      },
      "source": [
        "# Importar librería pandas\n",
        "import pandas as pd\n",
        "# Crear dataframe\n",
        "df = pd.DataFrame(data.data, columns=data.feature_names)\n",
        "# Agregar una columna de objetivos\n",
        "df['target'] = data.target\n",
        "# Mostrar las prieras cinco instancias\n",
        "df.head()"
      ],
      "execution_count": null,
      "outputs": []
    },
    {
      "cell_type": "code",
      "metadata": {
        "id": "SpOpofLRq6Ht"
      },
      "source": [
        "#Importar librería seaborn\n",
        "import seaborn as sns\n",
        "#Graficar características \n",
        "sns.pairplot( data=df, vars=('mean radius','fractal dimension error'), hue='target' )"
      ],
      "execution_count": null,
      "outputs": []
    },
    {
      "cell_type": "code",
      "metadata": {
        "id": "sKf9GqGdoOOL"
      },
      "source": [
        "# Guardar datos de atributos\n",
        "X = data.data\n",
        "# Guardar objetivos\n",
        "y = data.target\n",
        "# Importar la función para dividir datos en entrenamiento y prueba\n",
        "from sklearn.model_selection import train_test_split\n",
        "#Dividir en 80% para entrenamiento y 20% para prueba\n",
        "X_train, X_test, y_train, y_test = train_test_split(X, y, train_size=0.8)\n",
        "#Imprimir dimensiones\n",
        "print(\"Las dimensiones de la matriz de entrenamiento son:\" + str(X_train.shape))\n",
        "print(\"Las dimensiones de la matriz de prueba son:\" + str(X_test.shape))"
      ],
      "execution_count": null,
      "outputs": []
    },
    {
      "cell_type": "markdown",
      "metadata": {
        "id": "B6oGbLb4Xvax"
      },
      "source": [
        "##Entrenamiento"
      ]
    },
    {
      "cell_type": "code",
      "metadata": {
        "id": "3Q-pj3LtpuGu"
      },
      "source": [
        "#Importar el perceptrón multicapa \n",
        "from sklearn.neural_network import MLPClassifier\n",
        "#Seleccionar neuronas en capa(s) oculta(s) y función de activación (‘identity’, ‘logistic’, ‘tanh’, ‘relu’)\n",
        "mlp = MLPClassifier(hidden_layer_sizes = (20), activation = 'relu')\n",
        "#Entrenar modelo\n",
        "mlp.fit(X_train, y_train);\n",
        "print('El entrenamiento terminó')"
      ],
      "execution_count": null,
      "outputs": []
    },
    {
      "cell_type": "markdown",
      "metadata": {
        "id": "2VtNKd6kXzOW"
      },
      "source": [
        "##Prueba"
      ]
    },
    {
      "cell_type": "code",
      "metadata": {
        "id": "OSDYOks2OuSb"
      },
      "source": [
        "#Hacer prueba\n",
        "predictions = mlp.predict(X_test)\n",
        "print('La prueba terminó')"
      ],
      "execution_count": null,
      "outputs": []
    },
    {
      "cell_type": "markdown",
      "metadata": {
        "id": "GwShN3SEX3Yg"
      },
      "source": [
        "##Resultados"
      ]
    },
    {
      "cell_type": "code",
      "metadata": {
        "id": "MZ7-W8aHqF5P"
      },
      "source": [
        "#Importar métricas de rendimiento\n",
        "from sklearn.metrics import classification_report, confusion_matrix\n",
        "#Imprimir matriz de confusión\n",
        "print(confusion_matrix(y_test, predictions))"
      ],
      "execution_count": null,
      "outputs": []
    },
    {
      "cell_type": "code",
      "metadata": {
        "id": "FPNUD-PT1X_D"
      },
      "source": [
        "#Imprimir reporte de clasificación\n",
        "print(classification_report(y_test, predictions))"
      ],
      "execution_count": null,
      "outputs": []
    }
  ]
}
